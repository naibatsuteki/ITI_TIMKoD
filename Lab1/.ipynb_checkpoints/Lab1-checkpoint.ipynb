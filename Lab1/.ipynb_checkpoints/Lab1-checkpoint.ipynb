{
 "cells": [
  {
   "cell_type": "code",
   "execution_count": 1,
   "metadata": {},
   "outputs": [],
   "source": [
    "from random import randint\n",
    "import random as random"
   ]
  },
  {
   "cell_type": "markdown",
   "metadata": {},
   "source": [
    "#  Common code"
   ]
  },
  {
   "cell_type": "code",
   "execution_count": 2,
   "metadata": {},
   "outputs": [],
   "source": [
    "def calculate_mean_word_length(input_text):\n",
    "    words = input_text.split()\n",
    "    words_length = [len(word) for word in words]\n",
    "    return sum(words_length)/len(words)"
   ]
  },
  {
   "cell_type": "code",
   "execution_count": 3,
   "metadata": {},
   "outputs": [],
   "source": [
    "def generate(generator,character_set,lenght):\n",
    "    generator_output = generator(character_set,lenght)\n",
    "    return generator_output"
   ]
  },
  {
   "cell_type": "markdown",
   "metadata": {},
   "source": [
    "# Zadanie 1"
   ]
  },
  {
   "cell_type": "code",
   "execution_count": 4,
   "metadata": {},
   "outputs": [],
   "source": [
    "def zad_1_generator(character_set,lenght):\n",
    "    text = \"\"\n",
    "    for i in range(lenght):\n",
    "        text += character_set[randint(0, len(character_set) - 1)]\n",
    "    return text"
   ]
  },
  {
   "cell_type": "code",
   "execution_count": 5,
   "metadata": {},
   "outputs": [],
   "source": [
    "def geneare_character_set():\n",
    "    ascii_offset = 97\n",
    "    char_set = [chr(i+ascii_offset) for i in range(26)]\n",
    "    char_set.append(chr(32))\n",
    "    return char_set"
   ]
  },
  {
   "cell_type": "code",
   "execution_count": 6,
   "metadata": {},
   "outputs": [],
   "source": [
    "zad1_set = geneare_character_set()"
   ]
  },
  {
   "cell_type": "code",
   "execution_count": 7,
   "metadata": {},
   "outputs": [
    {
     "data": {
      "text/plain": [
       "26.81058495821727"
      ]
     },
     "execution_count": 7,
     "metadata": {},
     "output_type": "execute_result"
    }
   ],
   "source": [
    "calculate_mean_word_length(generate(zad_1_generator,zad1_set,10000))"
   ]
  },
  {
   "cell_type": "markdown",
   "metadata": {},
   "source": [
    "# Zadanie 2"
   ]
  },
  {
   "cell_type": "code",
   "execution_count": 8,
   "metadata": {},
   "outputs": [],
   "source": [
    "with open('norm_hamlet.txt', 'r') as file:\n",
    "    hamlet = file.read()"
   ]
  },
  {
   "cell_type": "code",
   "execution_count": 12,
   "metadata": {},
   "outputs": [],
   "source": [
    "with open('norm_romeo_and_juliet.txt', 'r') as file:\n",
    "    romeo_and_juliet = file.read()"
   ]
  },
  {
   "cell_type": "code",
   "execution_count": 13,
   "metadata": {},
   "outputs": [],
   "source": [
    "with open('norm_wiki_sample.txt', 'r') as file:\n",
    "    wiki_sample = file.read()"
   ]
  },
  {
   "cell_type": "code",
   "execution_count": 21,
   "metadata": {},
   "outputs": [],
   "source": [
    "from collections import Counter, OrderedDict"
   ]
  },
  {
   "cell_type": "code",
   "execution_count": 35,
   "metadata": {},
   "outputs": [],
   "source": [
    "def character_frequency(text):\n",
    "    counter_dict = dict(sorted(Counter(text).items(),key=lambda x:x[1]))\n",
    "    character_counter = sum(counter_dict.values())\n",
    "    return {key:value/character_counter for key,value in counter_dict.items()}"
   ]
  },
  {
   "cell_type": "code",
   "execution_count": 36,
   "metadata": {},
   "outputs": [
    {
     "data": {
      "text/plain": [
       "{'z': 0.0005044040781069715,\n",
       " 'j': 0.0006998606583734229,\n",
       " 'q': 0.0009142323915688859,\n",
       " 'x': 0.0010970788698826631,\n",
       " 'k': 0.0073453843874327724,\n",
       " 'v': 0.007685857140154978,\n",
       " 'b': 0.011317566502525174,\n",
       " 'p': 0.011683259459152728,\n",
       " 'g': 0.014299855614332642,\n",
       " 'c': 0.016544453761908665,\n",
       " 'f': 0.017162348757589704,\n",
       " 'w': 0.019438472160047415,\n",
       " 'y': 0.02010680756353915,\n",
       " 'm': 0.02446359778818812,\n",
       " 'u': 0.026676670680882454,\n",
       " 'd': 0.03190355794026595,\n",
       " 'l': 0.035465911741896436,\n",
       " 'r': 0.047256357067646894,\n",
       " 'n': 0.05142399576300574,\n",
       " 'h': 0.05147443617081644,\n",
       " 's': 0.0525715150406991,\n",
       " 'i': 0.05293720799732666,\n",
       " 'a': 0.060030390345705946,\n",
       " 'o': 0.06838458288935266,\n",
       " 't': 0.07469593891666614,\n",
       " 'e': 0.09329583929686072,\n",
       " ' ': 0.20062041701607158}"
      ]
     },
     "execution_count": 36,
     "metadata": {},
     "output_type": "execute_result"
    }
   ],
   "source": [
    "character_frequency(hamlet)"
   ]
  },
  {
   "cell_type": "code",
   "execution_count": 37,
   "metadata": {
    "scrolled": true
   },
   "outputs": [
    {
     "data": {
      "text/plain": [
       "{'3': 2.367667137569353e-05,\n",
       " '2': 6.313779033518274e-05,\n",
       " '1': 0.00010259890929467196,\n",
       " 'z': 0.0002367667137569353,\n",
       " 'q': 0.0005129945464733599,\n",
       " 'x': 0.0010180968691548217,\n",
       " 'j': 0.0012469713591198592,\n",
       " 'k': 0.006629467985194188,\n",
       " 'v': 0.008184236072198063,\n",
       " 'p': 0.010938622175570411,\n",
       " 'b': 0.012872217004585382,\n",
       " 'g': 0.014221787272999914,\n",
       " 'f': 0.015760770912419994,\n",
       " 'c': 0.016186950997182478,\n",
       " 'w': 0.020101493997963807,\n",
       " 'y': 0.020148847340715193,\n",
       " 'm': 0.02485261272068631,\n",
       " 'u': 0.026367919688730694,\n",
       " 'd': 0.030487660508101366,\n",
       " 'l': 0.03627266054756249,\n",
       " 'r': 0.04672985707182713,\n",
       " 'n': 0.04917644644731546,\n",
       " 's': 0.05091273568153298,\n",
       " 'i': 0.05186769476035263,\n",
       " 'h': 0.05391967294624606,\n",
       " 'a': 0.0622065079277388,\n",
       " 'o': 0.06563962527721436,\n",
       " 't': 0.07435264034346958,\n",
       " 'e': 0.09489609887377967,\n",
       " ' ': 0.20406923058710252}"
      ]
     },
     "execution_count": 37,
     "metadata": {},
     "output_type": "execute_result"
    }
   ],
   "source": [
    "character_frequency(romeo_and_juliet)"
   ]
  },
  {
   "cell_type": "code",
   "execution_count": 38,
   "metadata": {},
   "outputs": [
    {
     "data": {
      "text/plain": [
       "{'q': 0.0008531884640021667,\n",
       " 'z': 0.0012914149776145777,\n",
       " '6': 0.001527860797459176,\n",
       " '7': 0.001531475610071461,\n",
       " '4': 0.0016072939874265694,\n",
       " 'x': 0.001634080675758631,\n",
       " '5': 0.0016506717387739908,\n",
       " '3': 0.0017645846798124117,\n",
       " '8': 0.0019228022472270448,\n",
       " 'j': 0.002127734316092747,\n",
       " '2': 0.003480693795619051,\n",
       " '9': 0.0035601269855864443,\n",
       " '0': 0.004674786895210568,\n",
       " '1': 0.005869806869830876,\n",
       " 'k': 0.006031361187349157,\n",
       " 'v': 0.008546343890470808,\n",
       " 'y': 0.012442741136502646,\n",
       " 'w': 0.012853532149262843,\n",
       " 'b': 0.013455630167965513,\n",
       " 'g': 0.016282506318275353,\n",
       " 'p': 0.017076930905452165,\n",
       " 'f': 0.017617762484751748,\n",
       " 'u': 0.021310247224449554,\n",
       " 'm': 0.02152852629372985,\n",
       " 'c': 0.027571009981424498,\n",
       " 'd': 0.03160977523187864,\n",
       " 'l': 0.03505543315140939,\n",
       " 'h': 0.03646613694522938,\n",
       " 's': 0.053081113336332086,\n",
       " 'r': 0.05432303318740922,\n",
       " 'o': 0.05811617655523373,\n",
       " 'n': 0.05965627210307295,\n",
       " 'i': 0.06095500939341498,\n",
       " 't': 0.06629621943432631,\n",
       " 'a': 0.07209938398958711,\n",
       " 'e': 0.0935363350304724,\n",
       " ' ': 0.17059199786151394}"
      ]
     },
     "execution_count": 38,
     "metadata": {},
     "output_type": "execute_result"
    }
   ],
   "source": [
    "character_frequency(wiki_sample)"
   ]
  },
  {
   "cell_type": "code",
   "execution_count": 44,
   "metadata": {},
   "outputs": [
    {
     "data": {
      "text/plain": [
       "{'q': 0.0008501702101261367,\n",
       " 'z': 0.0012680765014127814,\n",
       " '6': 0.00148849768918951,\n",
       " '7': 0.0014920193714194538,\n",
       " '4': 0.0015658843987039126,\n",
       " '5': 0.0016081445854632362,\n",
       " 'x': 0.00161934172896357,\n",
       " '3': 0.001719393624111712,\n",
       " '8': 0.0018732640476969418,\n",
       " 'j': 0.002097206917703614,\n",
       " '2': 0.0033917411856131514,\n",
       " '9': 0.0034684054987726936,\n",
       " '0': 0.004554347819216339,\n",
       " '1': 0.00571975373869461,\n",
       " 'k': 0.006057022536869981,\n",
       " 'v': 0.008529875559100916,\n",
       " 'y': 0.012640672016433072,\n",
       " 'w': 0.013030766048057599,\n",
       " 'b': 0.013418331692440113,\n",
       " 'g': 0.016230530402366643,\n",
       " 'p': 0.016929448875693916,\n",
       " 'f': 0.017589990042669243,\n",
       " 'u': 0.021444967890836518,\n",
       " 'm': 0.02160859066521236,\n",
       " 'c': 0.027282833433550778,\n",
       " 'd': 0.03160113824381654,\n",
       " 'l': 0.035075232613883754,\n",
       " 'h': 0.03688077200331255,\n",
       " 's': 0.053048995720072496,\n",
       " 'r': 0.05413493804051614,\n",
       " 'o': 0.05834930807522638,\n",
       " 'n': 0.05941845468041953,\n",
       " 'i': 0.06073619593122895,\n",
       " 't': 0.06650868460382836,\n",
       " 'a': 0.0718133313371114,\n",
       " 'e': 0.09354843166396867,\n",
       " ' ': 0.17140524060629642}"
      ]
     },
     "execution_count": 44,
     "metadata": {},
     "output_type": "execute_result"
    }
   ],
   "source": [
    "full_text = ' '.join([hamlet,romeo_and_juliet,wiki_sample])\n",
    "character_frequency(full_text)"
   ]
  },
  {
   "cell_type": "markdown",
   "metadata": {},
   "source": [
    "Najczęsćiej pojawiające sie znaki to spacja i litery `e`, `a`, `t` , `i` a najżadziej `q`, `z`, `6`, `7`"
   ]
  },
  {
   "cell_type": "markdown",
   "metadata": {},
   "source": [
    "Długość kodów dla najeczęściej występujących znaków jest krótka, a dla najżadziej długa.\n",
    "\n",
    "` e`, `t` -- długość 1\n",
    "\n",
    "` a`, `i` -- długość 2\n",
    "\n",
    "` q`, `z`-- długość 4\n",
    "\n",
    "` 6`, `7` -- długość 5"
   ]
  },
  {
   "cell_type": "markdown",
   "metadata": {},
   "source": [
    "#  Zadanie 3"
   ]
  },
  {
   "cell_type": "code",
   "execution_count": null,
   "metadata": {},
   "outputs": [],
   "source": []
  }
 ],
 "metadata": {
  "kernelspec": {
   "display_name": "Python 3",
   "language": "python",
   "name": "python3"
  },
  "language_info": {
   "codemirror_mode": {
    "name": "ipython",
    "version": 3
   },
   "file_extension": ".py",
   "mimetype": "text/x-python",
   "name": "python",
   "nbconvert_exporter": "python",
   "pygments_lexer": "ipython3",
   "version": "3.7.3"
  }
 },
 "nbformat": 4,
 "nbformat_minor": 2
}
