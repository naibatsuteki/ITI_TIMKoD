{
 "cells": [
  {
   "cell_type": "code",
   "execution_count": 1,
   "metadata": {},
   "outputs": [],
   "source": [
    "from os import path as osp\n",
    "from hashlib import md5\n",
    "\n",
    "import bitarray as ba"
   ]
  },
  {
   "cell_type": "markdown",
   "metadata": {},
   "source": [
    "# KODOWANIE O STALEJ DŁUGOŚCI"
   ]
  },
  {
   "cell_type": "markdown",
   "metadata": {},
   "source": [
    "Jaki jest rozmiar oryginalnego pliku, a jaki pliku (lub plików) z kodem i\n",
    "zakodowaną reprezentacją?\n",
    "Zastanów się nad poniższymi zagadnieniami:\n",
    "\n",
    "## Co można zrobić, żeby bardziej skompresować tekst?\n",
    "Zastowoswać inny typ kodowania. Być możę lepsze okażą się kody o różnej długośći.\n",
    "## Co z nieużytymi kodami?\n",
    "Można służyć do rozszerzenia reprezentacji dokumentu. (Dodać nowe znaki do korpusu)\n",
    "## Jak odkodowywać kody o zmiennej długości (ang. variable-length code)?\n",
    "Kody powinny być jedoznacznie dekodowalne. \n",
    "## Jaka jest granica wydajności takich kodów (ang. symbol-by-symbol)?\n",
    "Sufit z wartość logarytmu o podstawie 2 z N. Gdzie N to liczność alfabetu.\n",
    "W przypadku tego korpusu ceil(log2(37)) =  6"
   ]
  },
  {
   "cell_type": "code",
   "execution_count": 2,
   "metadata": {},
   "outputs": [],
   "source": [
    "from encoders.fixed_length_encoder import FixedLengthEncoder"
   ]
  },
  {
   "cell_type": "code",
   "execution_count": 3,
   "metadata": {},
   "outputs": [],
   "source": [
    "normalized_file_path = osp.join('data','norm_wiki_sample.txt')\n",
    "fle_text_path = osp.join('outputs','fle_.fle')\n",
    "fle_code_path = osp.join('outputs','code.flec')"
   ]
  },
  {
   "cell_type": "code",
   "execution_count": 4,
   "metadata": {},
   "outputs": [],
   "source": [
    "# Load standard file\n",
    "with open (normalized_file_path,'r') as file:\n",
    "    original_text = file.read()"
   ]
  },
  {
   "cell_type": "code",
   "execution_count": 5,
   "metadata": {},
   "outputs": [],
   "source": [
    "fle = FixedLengthEncoder()\n",
    "fle.create(original_text)"
   ]
  },
  {
   "cell_type": "code",
   "execution_count": 6,
   "metadata": {},
   "outputs": [
    {
     "data": {
      "text/plain": [
       "{' ': bitarray('000001'),\n",
       " '0': bitarray('000010'),\n",
       " '1': bitarray('000011'),\n",
       " '2': bitarray('000100'),\n",
       " '3': bitarray('000101'),\n",
       " '4': bitarray('000110'),\n",
       " '5': bitarray('000111'),\n",
       " '6': bitarray('001000'),\n",
       " '7': bitarray('001001'),\n",
       " '8': bitarray('001010'),\n",
       " '9': bitarray('001011'),\n",
       " 'a': bitarray('001100'),\n",
       " 'b': bitarray('001101'),\n",
       " 'c': bitarray('001110'),\n",
       " 'd': bitarray('001111'),\n",
       " 'e': bitarray('010000'),\n",
       " 'f': bitarray('010001'),\n",
       " 'g': bitarray('010010'),\n",
       " 'h': bitarray('010011'),\n",
       " 'i': bitarray('010100'),\n",
       " 'j': bitarray('010101'),\n",
       " 'k': bitarray('010110'),\n",
       " 'l': bitarray('010111'),\n",
       " 'm': bitarray('011000'),\n",
       " 'n': bitarray('011001'),\n",
       " 'o': bitarray('011010'),\n",
       " 'p': bitarray('011011'),\n",
       " 'q': bitarray('011100'),\n",
       " 'r': bitarray('011101'),\n",
       " 's': bitarray('011110'),\n",
       " 't': bitarray('011111'),\n",
       " 'u': bitarray('100000'),\n",
       " 'v': bitarray('100001'),\n",
       " 'w': bitarray('100010'),\n",
       " 'x': bitarray('100011'),\n",
       " 'y': bitarray('100100'),\n",
       " 'z': bitarray('100101')}"
      ]
     },
     "execution_count": 6,
     "metadata": {},
     "output_type": "execute_result"
    }
   ],
   "source": [
    "fle.code"
   ]
  },
  {
   "cell_type": "code",
   "execution_count": 7,
   "metadata": {},
   "outputs": [],
   "source": [
    "fle_encoded_text = fle.encode(original_text)\n"
   ]
  },
  {
   "cell_type": "code",
   "execution_count": 8,
   "metadata": {},
   "outputs": [],
   "source": [
    "fle._save_code(fle_code_path)\n",
    "fle._save_encoded_file(fle_text_path,fle_encoded_text)"
   ]
  },
  {
   "cell_type": "markdown",
   "metadata": {},
   "source": [
    "### Porówanmianie rozmiarów plików"
   ]
  },
  {
   "cell_type": "code",
   "execution_count": 9,
   "metadata": {},
   "outputs": [
    {
     "name": "stdout",
     "output_type": "stream",
     "text": [
      "Original file size: 10788941\n",
      "FLE file size: 8091706\n",
      "FLE/Original file size: 0.7500000231718758\n"
     ]
    }
   ],
   "source": [
    "print(f'Original file size: {osp.getsize(normalized_file_path)}')\n",
    "print(f'FLE file size: {osp.getsize(fle_text_path)}')\n",
    "print(f'FLE/Original file size: {osp.getsize(fle_text_path)/osp.getsize(normalized_file_path)}')"
   ]
  },
  {
   "cell_type": "markdown",
   "metadata": {},
   "source": [
    "### Wczytanie pliku i kodu"
   ]
  },
  {
   "cell_type": "code",
   "execution_count": 10,
   "metadata": {},
   "outputs": [],
   "source": [
    "fle_2 = FixedLengthEncoder()"
   ]
  },
  {
   "cell_type": "code",
   "execution_count": 11,
   "metadata": {},
   "outputs": [
    {
     "data": {
      "text/plain": [
       "{}"
      ]
     },
     "execution_count": 11,
     "metadata": {},
     "output_type": "execute_result"
    }
   ],
   "source": [
    "fle_2.code"
   ]
  },
  {
   "cell_type": "code",
   "execution_count": 12,
   "metadata": {},
   "outputs": [
    {
     "data": {
      "text/plain": [
       "{' ': bitarray('000001'),\n",
       " '0': bitarray('000010'),\n",
       " '1': bitarray('000011'),\n",
       " '2': bitarray('000100'),\n",
       " '3': bitarray('000101'),\n",
       " '4': bitarray('000110'),\n",
       " '5': bitarray('000111'),\n",
       " '6': bitarray('001000'),\n",
       " '7': bitarray('001001'),\n",
       " '8': bitarray('001010'),\n",
       " '9': bitarray('001011'),\n",
       " 'a': bitarray('001100'),\n",
       " 'b': bitarray('001101'),\n",
       " 'c': bitarray('001110'),\n",
       " 'd': bitarray('001111'),\n",
       " 'e': bitarray('010000'),\n",
       " 'f': bitarray('010001'),\n",
       " 'g': bitarray('010010'),\n",
       " 'h': bitarray('010011'),\n",
       " 'i': bitarray('010100'),\n",
       " 'j': bitarray('010101'),\n",
       " 'k': bitarray('010110'),\n",
       " 'l': bitarray('010111'),\n",
       " 'm': bitarray('011000'),\n",
       " 'n': bitarray('011001'),\n",
       " 'o': bitarray('011010'),\n",
       " 'p': bitarray('011011'),\n",
       " 'q': bitarray('011100'),\n",
       " 'r': bitarray('011101'),\n",
       " 's': bitarray('011110'),\n",
       " 't': bitarray('011111'),\n",
       " 'u': bitarray('100000'),\n",
       " 'v': bitarray('100001'),\n",
       " 'w': bitarray('100010'),\n",
       " 'x': bitarray('100011'),\n",
       " 'y': bitarray('100100'),\n",
       " 'z': bitarray('100101')}"
      ]
     },
     "execution_count": 12,
     "metadata": {},
     "output_type": "execute_result"
    }
   ],
   "source": [
    "fle_2._load_code(fle_code_path)\n",
    "fle_2.code"
   ]
  },
  {
   "cell_type": "markdown",
   "metadata": {},
   "source": [
    "## Porównanie plików"
   ]
  },
  {
   "cell_type": "code",
   "execution_count": 13,
   "metadata": {},
   "outputs": [],
   "source": [
    "loaded_encoded_text = fle._load_encoded_file(fle_text_path)"
   ]
  },
  {
   "cell_type": "code",
   "execution_count": 14,
   "metadata": {},
   "outputs": [],
   "source": [
    "decoded_text = fle_2.decode(loaded_encoded_text)"
   ]
  },
  {
   "cell_type": "code",
   "execution_count": 15,
   "metadata": {},
   "outputs": [],
   "source": [
    "decoded_text_hash = md5(decoded_text.encode()).hexdigest()"
   ]
  },
  {
   "cell_type": "code",
   "execution_count": 16,
   "metadata": {},
   "outputs": [
    {
     "data": {
      "text/plain": [
       "'47e54e43556131eef79bb946a10d2da3'"
      ]
     },
     "execution_count": 16,
     "metadata": {},
     "output_type": "execute_result"
    }
   ],
   "source": [
    "decoded_text_hash"
   ]
  },
  {
   "cell_type": "code",
   "execution_count": 17,
   "metadata": {},
   "outputs": [],
   "source": [
    "original_text_hash = md5(original_text.encode()).hexdigest()"
   ]
  },
  {
   "cell_type": "code",
   "execution_count": 18,
   "metadata": {},
   "outputs": [
    {
     "data": {
      "text/plain": [
       "'47e54e43556131eef79bb946a10d2da3'"
      ]
     },
     "execution_count": 18,
     "metadata": {},
     "output_type": "execute_result"
    }
   ],
   "source": [
    "original_text_hash"
   ]
  },
  {
   "cell_type": "code",
   "execution_count": 19,
   "metadata": {},
   "outputs": [
    {
     "data": {
      "text/plain": [
       "True"
      ]
     },
     "execution_count": 19,
     "metadata": {},
     "output_type": "execute_result"
    }
   ],
   "source": [
    "decoded_text_hash == original_text_hash"
   ]
  },
  {
   "cell_type": "code",
   "execution_count": null,
   "metadata": {},
   "outputs": [],
   "source": []
  }
 ],
 "metadata": {
  "kernelspec": {
   "display_name": "ITI_TIMKoD_LAB",
   "language": "python",
   "name": "iti_timkod_lab"
  },
  "language_info": {
   "codemirror_mode": {
    "name": "ipython",
    "version": 3
   },
   "file_extension": ".py",
   "mimetype": "text/x-python",
   "name": "python",
   "nbconvert_exporter": "python",
   "pygments_lexer": "ipython3",
   "version": "3.6.9"
  }
 },
 "nbformat": 4,
 "nbformat_minor": 4
}
