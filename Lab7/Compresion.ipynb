{
 "cells": [
  {
   "cell_type": "code",
   "execution_count": 1,
   "metadata": {},
   "outputs": [],
   "source": [
    "from os import path as osp\n",
    "from hashlib import md5\n",
    "\n",
    "import bitarray as ba"
   ]
  },
  {
   "cell_type": "markdown",
   "metadata": {},
   "source": [
    "# KODOWANIE O STALEJ DŁUGOŚCI"
   ]
  },
  {
   "cell_type": "markdown",
   "metadata": {},
   "source": [
    "Jaki jest rozmiar oryginalnego pliku, a jaki pliku (lub plików) z kodem i\n",
    "zakodowaną reprezentacją?\n",
    "Zastanów się nad poniższymi zagadnieniami:\n",
    "\n",
    "## Co można zrobić, żeby bardziej skompresować tekst?\n",
    "Zastowoswać inny typ kodowania. Być możę lepsze okażą się kody o różnej długośći.\n",
    "## Co z nieużytymi kodami?\n",
    "Można służyć do rozszerzenia reprezentacji dokumentu. (Dodać nowe znaki do korpusu)\n",
    "## Jak odkodowywać kody o zmiennej długości (ang. variable-length code)?\n",
    "Kody powinny być jedoznacznie dekodowalne. \n",
    "## Jaka jest granica wydajności takich kodów (ang. symbol-by-symbol)?\n",
    "Sufit z wartość logarytmu o podstawie 2 z N. Gdzie N to liczność alfabetu.\n",
    "W przypadku tego korpusu ceil(log2(37)) =  6"
   ]
  },
  {
   "cell_type": "code",
   "execution_count": 2,
   "metadata": {},
   "outputs": [],
   "source": [
    "from encoders.fixed_length_encoder import FixedLengthEncoder"
   ]
  },
  {
   "cell_type": "code",
   "execution_count": 3,
   "metadata": {},
   "outputs": [],
   "source": [
    "normalized_file_path = osp.join('data','norm_wiki_sample.txt')\n",
    "fle_text_path = osp.join('outputs','wiki.fle')\n",
    "fle_code_path = osp.join('outputs','fle_code.json')"
   ]
  },
  {
   "cell_type": "code",
   "execution_count": 4,
   "metadata": {},
   "outputs": [],
   "source": [
    "# Load standard file\n",
    "with open (normalized_file_path,'r') as file:\n",
    "    original_text = file.read()"
   ]
  },
  {
   "cell_type": "code",
   "execution_count": 5,
   "metadata": {},
   "outputs": [],
   "source": [
    "fle = FixedLengthEncoder()\n",
    "fle.create(original_text)"
   ]
  },
  {
   "cell_type": "code",
   "execution_count": 6,
   "metadata": {},
   "outputs": [
    {
     "data": {
      "text/plain": [
       "{' ': bitarray('000000'),\n",
       " '0': bitarray('000001'),\n",
       " '1': bitarray('000010'),\n",
       " '2': bitarray('000011'),\n",
       " '3': bitarray('000100'),\n",
       " '4': bitarray('000101'),\n",
       " '5': bitarray('000110'),\n",
       " '6': bitarray('000111'),\n",
       " '7': bitarray('001000'),\n",
       " '8': bitarray('001001'),\n",
       " '9': bitarray('001010'),\n",
       " 'a': bitarray('001011'),\n",
       " 'b': bitarray('001100'),\n",
       " 'c': bitarray('001101'),\n",
       " 'd': bitarray('001110'),\n",
       " 'e': bitarray('001111'),\n",
       " 'f': bitarray('010000'),\n",
       " 'g': bitarray('010001'),\n",
       " 'h': bitarray('010010'),\n",
       " 'i': bitarray('010011'),\n",
       " 'j': bitarray('010100'),\n",
       " 'k': bitarray('010101'),\n",
       " 'l': bitarray('010110'),\n",
       " 'm': bitarray('010111'),\n",
       " 'n': bitarray('011000'),\n",
       " 'o': bitarray('011001'),\n",
       " 'p': bitarray('011010'),\n",
       " 'q': bitarray('011011'),\n",
       " 'r': bitarray('011100'),\n",
       " 's': bitarray('011101'),\n",
       " 't': bitarray('011110'),\n",
       " 'u': bitarray('011111'),\n",
       " 'v': bitarray('100000'),\n",
       " 'w': bitarray('100001'),\n",
       " 'x': bitarray('100010'),\n",
       " 'y': bitarray('100011'),\n",
       " 'z': bitarray('100100')}"
      ]
     },
     "execution_count": 6,
     "metadata": {},
     "output_type": "execute_result"
    }
   ],
   "source": [
    "fle.code"
   ]
  },
  {
   "cell_type": "code",
   "execution_count": 7,
   "metadata": {},
   "outputs": [],
   "source": [
    "fle_encoded_text = fle.encode(original_text)\n"
   ]
  },
  {
   "cell_type": "code",
   "execution_count": 8,
   "metadata": {},
   "outputs": [],
   "source": [
    "fle._save_code(fle_code_path)\n",
    "fle._save_encoded_file(fle_text_path,fle_encoded_text)"
   ]
  },
  {
   "cell_type": "markdown",
   "metadata": {},
   "source": [
    "### Porówanmianie rozmiarów plików"
   ]
  },
  {
   "cell_type": "code",
   "execution_count": 9,
   "metadata": {},
   "outputs": [
    {
     "name": "stdout",
     "output_type": "stream",
     "text": [
      "Original file size: 10788941\n",
      "FLE file size: 8091706\n",
      "FLE/Original file size: 0.7500000231718758\n"
     ]
    }
   ],
   "source": [
    "print(f'Original file size: {osp.getsize(normalized_file_path)}')\n",
    "print(f'FLE file size: {osp.getsize(fle_text_path)}')\n",
    "print(f'FLE/Original file size: {osp.getsize(fle_text_path)/osp.getsize(normalized_file_path)}')"
   ]
  },
  {
   "cell_type": "markdown",
   "metadata": {},
   "source": [
    "### Wczytanie pliku i kodu"
   ]
  },
  {
   "cell_type": "code",
   "execution_count": 10,
   "metadata": {},
   "outputs": [],
   "source": [
    "fle_2 = FixedLengthEncoder()"
   ]
  },
  {
   "cell_type": "code",
   "execution_count": 11,
   "metadata": {},
   "outputs": [
    {
     "data": {
      "text/plain": [
       "{}"
      ]
     },
     "execution_count": 11,
     "metadata": {},
     "output_type": "execute_result"
    }
   ],
   "source": [
    "fle_2.code"
   ]
  },
  {
   "cell_type": "code",
   "execution_count": 12,
   "metadata": {},
   "outputs": [
    {
     "data": {
      "text/plain": [
       "{' ': bitarray('000000'),\n",
       " '0': bitarray('000001'),\n",
       " '1': bitarray('000010'),\n",
       " '2': bitarray('000011'),\n",
       " '3': bitarray('000100'),\n",
       " '4': bitarray('000101'),\n",
       " '5': bitarray('000110'),\n",
       " '6': bitarray('000111'),\n",
       " '7': bitarray('001000'),\n",
       " '8': bitarray('001001'),\n",
       " '9': bitarray('001010'),\n",
       " 'a': bitarray('001011'),\n",
       " 'b': bitarray('001100'),\n",
       " 'c': bitarray('001101'),\n",
       " 'd': bitarray('001110'),\n",
       " 'e': bitarray('001111'),\n",
       " 'f': bitarray('010000'),\n",
       " 'g': bitarray('010001'),\n",
       " 'h': bitarray('010010'),\n",
       " 'i': bitarray('010011'),\n",
       " 'j': bitarray('010100'),\n",
       " 'k': bitarray('010101'),\n",
       " 'l': bitarray('010110'),\n",
       " 'm': bitarray('010111'),\n",
       " 'n': bitarray('011000'),\n",
       " 'o': bitarray('011001'),\n",
       " 'p': bitarray('011010'),\n",
       " 'q': bitarray('011011'),\n",
       " 'r': bitarray('011100'),\n",
       " 's': bitarray('011101'),\n",
       " 't': bitarray('011110'),\n",
       " 'u': bitarray('011111'),\n",
       " 'v': bitarray('100000'),\n",
       " 'w': bitarray('100001'),\n",
       " 'x': bitarray('100010'),\n",
       " 'y': bitarray('100011'),\n",
       " 'z': bitarray('100100')}"
      ]
     },
     "execution_count": 12,
     "metadata": {},
     "output_type": "execute_result"
    }
   ],
   "source": [
    "fle_2._load_code(fle_code_path)\n",
    "fle_2.code"
   ]
  },
  {
   "cell_type": "markdown",
   "metadata": {},
   "source": [
    "## Porównanie plików"
   ]
  },
  {
   "cell_type": "code",
   "execution_count": 13,
   "metadata": {},
   "outputs": [],
   "source": [
    "fle_loaded_encoded_text = fle_2._load_encoded_file(fle_text_path)"
   ]
  },
  {
   "cell_type": "code",
   "execution_count": 14,
   "metadata": {},
   "outputs": [],
   "source": [
    "fle_decoded_text = fle_2.decode(fle_loaded_encoded_text)[:len(original_text)]"
   ]
  },
  {
   "cell_type": "code",
   "execution_count": 15,
   "metadata": {},
   "outputs": [],
   "source": [
    "fle_decoded_text_hash = md5(fle_decoded_text.encode()).hexdigest()"
   ]
  },
  {
   "cell_type": "code",
   "execution_count": 16,
   "metadata": {},
   "outputs": [
    {
     "data": {
      "text/plain": [
       "'47e54e43556131eef79bb946a10d2da3'"
      ]
     },
     "execution_count": 16,
     "metadata": {},
     "output_type": "execute_result"
    }
   ],
   "source": [
    "fle_decoded_text_hash"
   ]
  },
  {
   "cell_type": "code",
   "execution_count": 17,
   "metadata": {},
   "outputs": [],
   "source": [
    "original_text_hash = md5(original_text.encode()).hexdigest()"
   ]
  },
  {
   "cell_type": "code",
   "execution_count": 18,
   "metadata": {},
   "outputs": [
    {
     "data": {
      "text/plain": [
       "'47e54e43556131eef79bb946a10d2da3'"
      ]
     },
     "execution_count": 18,
     "metadata": {},
     "output_type": "execute_result"
    }
   ],
   "source": [
    "original_text_hash"
   ]
  },
  {
   "cell_type": "code",
   "execution_count": 19,
   "metadata": {},
   "outputs": [
    {
     "data": {
      "text/plain": [
       "True"
      ]
     },
     "execution_count": 19,
     "metadata": {},
     "output_type": "execute_result"
    }
   ],
   "source": [
    "fle_decoded_text_hash == original_text_hash"
   ]
  },
  {
   "cell_type": "markdown",
   "metadata": {},
   "source": [
    "# KODOWANIE O HUFFMANA DŁUGOŚCI"
   ]
  },
  {
   "cell_type": "code",
   "execution_count": 20,
   "metadata": {},
   "outputs": [],
   "source": [
    "from encoders.huffman_encoder import HuffmanEncoder"
   ]
  },
  {
   "cell_type": "code",
   "execution_count": 21,
   "metadata": {},
   "outputs": [],
   "source": [
    "normalized_file_path = osp.join('data','norm_wiki_sample.txt')\n",
    "huffman_text_path = osp.join('outputs','wiki.huffman')\n",
    "huffman_code_path = osp.join('outputs','huffman_code.json')"
   ]
  },
  {
   "cell_type": "code",
   "execution_count": 22,
   "metadata": {},
   "outputs": [],
   "source": [
    "# Load standard file\n",
    "with open (normalized_file_path,'r') as file:\n",
    "    original_text = file.read()"
   ]
  },
  {
   "cell_type": "code",
   "execution_count": 23,
   "metadata": {},
   "outputs": [],
   "source": [
    "huffman = HuffmanEncoder()\n",
    "huffman.create(original_text)"
   ]
  },
  {
   "cell_type": "code",
   "execution_count": 24,
   "metadata": {},
   "outputs": [
    {
     "data": {
      "text/plain": [
       "{' ': bitarray('000'),\n",
       " 'u': bitarray('001000'),\n",
       " '1': bitarray('00100100'),\n",
       " '7': bitarray('0010010100'),\n",
       " '6': bitarray('0010010101'),\n",
       " 'z': bitarray('0010010110'),\n",
       " 'q': bitarray('0010010111'),\n",
       " '0': bitarray('00100110'),\n",
       " 'j': bitarray('001001110'),\n",
       " '8': bitarray('001001111'),\n",
       " 'h': bitarray('00101'),\n",
       " 'a': bitarray('0011'),\n",
       " 'l': bitarray('01000'),\n",
       " 'f': bitarray('010010'),\n",
       " 'p': bitarray('010011'),\n",
       " 't': bitarray('0101'),\n",
       " 'g': bitarray('011000'),\n",
       " 'v': bitarray('0110010'),\n",
       " '9': bitarray('01100110'),\n",
       " '2': bitarray('01100111'),\n",
       " 'd': bitarray('01101'),\n",
       " 'i': bitarray('0111'),\n",
       " 'n': bitarray('1000'),\n",
       " 'o': bitarray('1001'),\n",
       " 'r': bitarray('1010'),\n",
       " 'c': bitarray('10110'),\n",
       " 'b': bitarray('101110'),\n",
       " 'w': bitarray('101111'),\n",
       " 's': bitarray('1100'),\n",
       " '3': bitarray('110100000'),\n",
       " '5': bitarray('110100001'),\n",
       " 'x': bitarray('110100010'),\n",
       " '4': bitarray('110100011'),\n",
       " 'k': bitarray('1101001'),\n",
       " 'y': bitarray('110101'),\n",
       " 'm': bitarray('11011'),\n",
       " 'e': bitarray('111')}"
      ]
     },
     "execution_count": 24,
     "metadata": {},
     "output_type": "execute_result"
    }
   ],
   "source": [
    "huffman.code"
   ]
  },
  {
   "cell_type": "code",
   "execution_count": 25,
   "metadata": {},
   "outputs": [],
   "source": [
    "huffman_encoded_text = huffman.encode(original_text)\n"
   ]
  },
  {
   "cell_type": "code",
   "execution_count": 26,
   "metadata": {},
   "outputs": [],
   "source": [
    "huffman._save_code(huffman_code_path)\n",
    "huffman._save_encoded_file(huffman_text_path,huffman_encoded_text)"
   ]
  },
  {
   "cell_type": "markdown",
   "metadata": {},
   "source": [
    "### Porówanmianie rozmiarów plików"
   ]
  },
  {
   "cell_type": "code",
   "execution_count": 27,
   "metadata": {},
   "outputs": [
    {
     "name": "stdout",
     "output_type": "stream",
     "text": [
      "Original file size: 10788941\n",
      "Huffman file size: 5811215\n",
      "Huffman/Original file size: 0.5386270070436014\n"
     ]
    }
   ],
   "source": [
    "print(f'Original file size: {osp.getsize(normalized_file_path)}')\n",
    "print(f'Huffman file size: {osp.getsize(huffman_text_path)}')\n",
    "print(f'Huffman/Original file size: {osp.getsize(huffman_text_path)/osp.getsize(normalized_file_path)}')"
   ]
  },
  {
   "cell_type": "markdown",
   "metadata": {},
   "source": [
    "### Wczytanie pliku i kodu"
   ]
  },
  {
   "cell_type": "code",
   "execution_count": 28,
   "metadata": {},
   "outputs": [],
   "source": [
    "huffman_2 = HuffmanEncoder()"
   ]
  },
  {
   "cell_type": "code",
   "execution_count": 29,
   "metadata": {},
   "outputs": [
    {
     "data": {
      "text/plain": [
       "{}"
      ]
     },
     "execution_count": 29,
     "metadata": {},
     "output_type": "execute_result"
    }
   ],
   "source": [
    "huffman_2.code"
   ]
  },
  {
   "cell_type": "code",
   "execution_count": 30,
   "metadata": {},
   "outputs": [
    {
     "data": {
      "text/plain": [
       "{' ': bitarray('000'),\n",
       " 'u': bitarray('001000'),\n",
       " '1': bitarray('00100100'),\n",
       " '7': bitarray('0010010100'),\n",
       " '6': bitarray('0010010101'),\n",
       " 'z': bitarray('0010010110'),\n",
       " 'q': bitarray('0010010111'),\n",
       " '0': bitarray('00100110'),\n",
       " 'j': bitarray('001001110'),\n",
       " '8': bitarray('001001111'),\n",
       " 'h': bitarray('00101'),\n",
       " 'a': bitarray('0011'),\n",
       " 'l': bitarray('01000'),\n",
       " 'f': bitarray('010010'),\n",
       " 'p': bitarray('010011'),\n",
       " 't': bitarray('0101'),\n",
       " 'g': bitarray('011000'),\n",
       " 'v': bitarray('0110010'),\n",
       " '9': bitarray('01100110'),\n",
       " '2': bitarray('01100111'),\n",
       " 'd': bitarray('01101'),\n",
       " 'i': bitarray('0111'),\n",
       " 'n': bitarray('1000'),\n",
       " 'o': bitarray('1001'),\n",
       " 'r': bitarray('1010'),\n",
       " 'c': bitarray('10110'),\n",
       " 'b': bitarray('101110'),\n",
       " 'w': bitarray('101111'),\n",
       " 's': bitarray('1100'),\n",
       " '3': bitarray('110100000'),\n",
       " '5': bitarray('110100001'),\n",
       " 'x': bitarray('110100010'),\n",
       " '4': bitarray('110100011'),\n",
       " 'k': bitarray('1101001'),\n",
       " 'y': bitarray('110101'),\n",
       " 'm': bitarray('11011'),\n",
       " 'e': bitarray('111')}"
      ]
     },
     "execution_count": 30,
     "metadata": {},
     "output_type": "execute_result"
    }
   ],
   "source": [
    "huffman_2._load_code(huffman_code_path)\n",
    "huffman_2.code"
   ]
  },
  {
   "cell_type": "markdown",
   "metadata": {},
   "source": [
    "## Porównanie plików"
   ]
  },
  {
   "cell_type": "code",
   "execution_count": 31,
   "metadata": {},
   "outputs": [],
   "source": [
    "huffman_loaded_encoded_text = huffman_2._load_encoded_file(huffman_text_path)"
   ]
  },
  {
   "cell_type": "code",
   "execution_count": 32,
   "metadata": {},
   "outputs": [],
   "source": [
    "huffman_decoded_text = huffman_2.decode(huffman_loaded_encoded_text)[:len(original_text)]"
   ]
  },
  {
   "cell_type": "code",
   "execution_count": 33,
   "metadata": {},
   "outputs": [],
   "source": [
    "huffman_decoded_text_hash = md5(huffman_decoded_text.encode()).hexdigest()"
   ]
  },
  {
   "cell_type": "code",
   "execution_count": 34,
   "metadata": {},
   "outputs": [
    {
     "data": {
      "text/plain": [
       "'47e54e43556131eef79bb946a10d2da3'"
      ]
     },
     "execution_count": 34,
     "metadata": {},
     "output_type": "execute_result"
    }
   ],
   "source": [
    "huffman_decoded_text_hash"
   ]
  },
  {
   "cell_type": "code",
   "execution_count": 35,
   "metadata": {},
   "outputs": [],
   "source": [
    "original_text_hash = md5(original_text.encode()).hexdigest()"
   ]
  },
  {
   "cell_type": "code",
   "execution_count": 36,
   "metadata": {},
   "outputs": [
    {
     "data": {
      "text/plain": [
       "'47e54e43556131eef79bb946a10d2da3'"
      ]
     },
     "execution_count": 36,
     "metadata": {},
     "output_type": "execute_result"
    }
   ],
   "source": [
    "original_text_hash"
   ]
  },
  {
   "cell_type": "code",
   "execution_count": 37,
   "metadata": {},
   "outputs": [
    {
     "data": {
      "text/plain": [
       "True"
      ]
     },
     "execution_count": 37,
     "metadata": {},
     "output_type": "execute_result"
    }
   ],
   "source": [
    "huffman_decoded_text_hash == original_text_hash"
   ]
  },
  {
   "cell_type": "code",
   "execution_count": null,
   "metadata": {},
   "outputs": [],
   "source": []
  }
 ],
 "metadata": {
  "kernelspec": {
   "display_name": "ITI_TIMKoD_LAB",
   "language": "python",
   "name": "iti_timkod_lab"
  },
  "language_info": {
   "codemirror_mode": {
    "name": "ipython",
    "version": 3
   },
   "file_extension": ".py",
   "mimetype": "text/x-python",
   "name": "python",
   "nbconvert_exporter": "python",
   "pygments_lexer": "ipython3",
   "version": "3.6.9"
  }
 },
 "nbformat": 4,
 "nbformat_minor": 4
}
