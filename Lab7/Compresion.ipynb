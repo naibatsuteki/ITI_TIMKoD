{
 "cells": [
  {
   "cell_type": "code",
   "execution_count": 1,
   "metadata": {},
   "outputs": [],
   "source": [
    "from os import path as osp\n",
    "from hashlib import md5\n",
    "\n",
    "import bitarray as ba"
   ]
  },
  {
   "cell_type": "markdown",
   "metadata": {},
   "source": [
    "# KODOWANIE O STALEJ DŁUGOŚCI"
   ]
  },
  {
   "cell_type": "markdown",
   "metadata": {},
   "source": [
    "Jaki jest rozmiar oryginalnego pliku, a jaki pliku (lub plików) z kodem i\n",
    "zakodowaną reprezentacją?\n",
    "Zastanów się nad poniższymi zagadnieniami:\n",
    "\n",
    "## Co można zrobić, żeby bardziej skompresować tekst?\n",
    "Zastowoswać inny typ kodowania. Być możę lepsze okażą się kody o różnej długośći.\n",
    "## Co z nieużytymi kodami?\n",
    "Można służyć do rozszerzenia reprezentacji dokumentu. (Dodać nowe znaki do korpusu)\n",
    "## Jak odkodowywać kody o zmiennej długości (ang. variable-length code)?\n",
    "Kody powinny być jedoznacznie dekodowalne. \n",
    "## Jaka jest granica wydajności takich kodów (ang. symbol-by-symbol)?\n",
    "Sufit z wartość logarytmu o podstawie 2 z N. Gdzie N to liczność alfabetu.\n",
    "W przypadku tego korpusu ceil(log2(37)) =  6"
   ]
  },
  {
   "cell_type": "code",
   "execution_count": 2,
   "metadata": {},
   "outputs": [],
   "source": [
    "from encoders.fixed_length_encoder import FixedLengthEncoder"
   ]
  },
  {
   "cell_type": "code",
   "execution_count": 3,
   "metadata": {},
   "outputs": [],
   "source": [
    "normalized_file_path = osp.join('data','norm_wiki_sample.txt')\n",
    "fle_text_path = osp.join('outputs','wiki.fle')\n",
    "fle_code_path = osp.join('outputs','fle_code.json')"
   ]
  },
  {
   "cell_type": "code",
   "execution_count": 4,
   "metadata": {},
   "outputs": [],
   "source": [
    "# Load standard file\n",
    "with open (normalized_file_path,'r') as file:\n",
    "    original_text = file.read()"
   ]
  },
  {
   "cell_type": "code",
   "execution_count": 5,
   "metadata": {},
   "outputs": [],
   "source": [
    "fle = FixedLengthEncoder()\n",
    "fle.create(original_text)"
   ]
  },
  {
   "cell_type": "code",
   "execution_count": 6,
   "metadata": {},
   "outputs": [
    {
     "data": {
      "text/plain": [
       "{' ': bitarray('000000'),\n",
       " '0': bitarray('000001'),\n",
       " '1': bitarray('000010'),\n",
       " '2': bitarray('000011'),\n",
       " '3': bitarray('000100'),\n",
       " '4': bitarray('000101'),\n",
       " '5': bitarray('000110'),\n",
       " '6': bitarray('000111'),\n",
       " '7': bitarray('001000'),\n",
       " '8': bitarray('001001'),\n",
       " '9': bitarray('001010'),\n",
       " 'a': bitarray('001011'),\n",
       " 'b': bitarray('001100'),\n",
       " 'c': bitarray('001101'),\n",
       " 'd': bitarray('001110'),\n",
       " 'e': bitarray('001111'),\n",
       " 'f': bitarray('010000'),\n",
       " 'g': bitarray('010001'),\n",
       " 'h': bitarray('010010'),\n",
       " 'i': bitarray('010011'),\n",
       " 'j': bitarray('010100'),\n",
       " 'k': bitarray('010101'),\n",
       " 'l': bitarray('010110'),\n",
       " 'm': bitarray('010111'),\n",
       " 'n': bitarray('011000'),\n",
       " 'o': bitarray('011001'),\n",
       " 'p': bitarray('011010'),\n",
       " 'q': bitarray('011011'),\n",
       " 'r': bitarray('011100'),\n",
       " 's': bitarray('011101'),\n",
       " 't': bitarray('011110'),\n",
       " 'u': bitarray('011111'),\n",
       " 'v': bitarray('100000'),\n",
       " 'w': bitarray('100001'),\n",
       " 'x': bitarray('100010'),\n",
       " 'y': bitarray('100011'),\n",
       " 'z': bitarray('100100')}"
      ]
     },
     "execution_count": 6,
     "metadata": {},
     "output_type": "execute_result"
    }
   ],
   "source": [
    "fle.code"
   ]
  },
  {
   "cell_type": "code",
   "execution_count": 7,
   "metadata": {},
   "outputs": [],
   "source": [
    "fle_encoded_text = fle.encode(original_text)\n"
   ]
  },
  {
   "cell_type": "code",
   "execution_count": 8,
   "metadata": {},
   "outputs": [],
   "source": [
    "fle._save_code(fle_code_path)\n",
    "fle._save_encoded_file(fle_text_path,fle_encoded_text)"
   ]
  },
  {
   "cell_type": "markdown",
   "metadata": {},
   "source": [
    "### Porówanmianie rozmiarów plików"
   ]
  },
  {
   "cell_type": "code",
   "execution_count": 9,
   "metadata": {},
   "outputs": [
    {
     "name": "stdout",
     "output_type": "stream",
     "text": [
      "Original file size: 10788941\n",
      "FLE file size: 8091706\n",
      "FLE/Original file size: 0.7500000231718758\n"
     ]
    }
   ],
   "source": [
    "print(f'Original file size: {osp.getsize(normalized_file_path)}')\n",
    "print(f'FLE file size: {osp.getsize(fle_text_path)}')\n",
    "print(f'FLE/Original file size: {osp.getsize(fle_text_path)/osp.getsize(normalized_file_path)}')"
   ]
  },
  {
   "cell_type": "markdown",
   "metadata": {},
   "source": [
    "### Wczytanie pliku i kodu"
   ]
  },
  {
   "cell_type": "code",
   "execution_count": 10,
   "metadata": {},
   "outputs": [],
   "source": [
    "fle_2 = FixedLengthEncoder()"
   ]
  },
  {
   "cell_type": "code",
   "execution_count": 11,
   "metadata": {},
   "outputs": [
    {
     "data": {
      "text/plain": [
       "{}"
      ]
     },
     "execution_count": 11,
     "metadata": {},
     "output_type": "execute_result"
    }
   ],
   "source": [
    "fle_2.code"
   ]
  },
  {
   "cell_type": "code",
   "execution_count": 12,
   "metadata": {},
   "outputs": [
    {
     "data": {
      "text/plain": [
       "{' ': bitarray('000000'),\n",
       " '0': bitarray('000001'),\n",
       " '1': bitarray('000010'),\n",
       " '2': bitarray('000011'),\n",
       " '3': bitarray('000100'),\n",
       " '4': bitarray('000101'),\n",
       " '5': bitarray('000110'),\n",
       " '6': bitarray('000111'),\n",
       " '7': bitarray('001000'),\n",
       " '8': bitarray('001001'),\n",
       " '9': bitarray('001010'),\n",
       " 'a': bitarray('001011'),\n",
       " 'b': bitarray('001100'),\n",
       " 'c': bitarray('001101'),\n",
       " 'd': bitarray('001110'),\n",
       " 'e': bitarray('001111'),\n",
       " 'f': bitarray('010000'),\n",
       " 'g': bitarray('010001'),\n",
       " 'h': bitarray('010010'),\n",
       " 'i': bitarray('010011'),\n",
       " 'j': bitarray('010100'),\n",
       " 'k': bitarray('010101'),\n",
       " 'l': bitarray('010110'),\n",
       " 'm': bitarray('010111'),\n",
       " 'n': bitarray('011000'),\n",
       " 'o': bitarray('011001'),\n",
       " 'p': bitarray('011010'),\n",
       " 'q': bitarray('011011'),\n",
       " 'r': bitarray('011100'),\n",
       " 's': bitarray('011101'),\n",
       " 't': bitarray('011110'),\n",
       " 'u': bitarray('011111'),\n",
       " 'v': bitarray('100000'),\n",
       " 'w': bitarray('100001'),\n",
       " 'x': bitarray('100010'),\n",
       " 'y': bitarray('100011'),\n",
       " 'z': bitarray('100100')}"
      ]
     },
     "execution_count": 12,
     "metadata": {},
     "output_type": "execute_result"
    }
   ],
   "source": [
    "fle_2._load_code(fle_code_path)\n",
    "fle_2.code"
   ]
  },
  {
   "cell_type": "markdown",
   "metadata": {},
   "source": [
    "## Porównanie plików"
   ]
  },
  {
   "cell_type": "code",
   "execution_count": 13,
   "metadata": {},
   "outputs": [],
   "source": [
    "fle_loaded_encoded_text = fle_2._load_encoded_file(fle_text_path)"
   ]
  },
  {
   "cell_type": "code",
   "execution_count": 14,
   "metadata": {},
   "outputs": [],
   "source": [
    "fle_decoded_text = fle_2.decode(fle_loaded_encoded_text)[:len(original_text)]"
   ]
  },
  {
   "cell_type": "code",
   "execution_count": 15,
   "metadata": {},
   "outputs": [],
   "source": [
    "fle_decoded_text_hash = md5(fle_decoded_text.encode()).hexdigest()"
   ]
  },
  {
   "cell_type": "code",
   "execution_count": 16,
   "metadata": {},
   "outputs": [
    {
     "data": {
      "text/plain": [
       "'47e54e43556131eef79bb946a10d2da3'"
      ]
     },
     "execution_count": 16,
     "metadata": {},
     "output_type": "execute_result"
    }
   ],
   "source": [
    "fle_decoded_text_hash"
   ]
  },
  {
   "cell_type": "code",
   "execution_count": 17,
   "metadata": {},
   "outputs": [],
   "source": [
    "original_text_hash = md5(original_text.encode()).hexdigest()"
   ]
  },
  {
   "cell_type": "code",
   "execution_count": 18,
   "metadata": {},
   "outputs": [
    {
     "data": {
      "text/plain": [
       "'47e54e43556131eef79bb946a10d2da3'"
      ]
     },
     "execution_count": 18,
     "metadata": {},
     "output_type": "execute_result"
    }
   ],
   "source": [
    "original_text_hash"
   ]
  },
  {
   "cell_type": "code",
   "execution_count": 19,
   "metadata": {},
   "outputs": [
    {
     "data": {
      "text/plain": [
       "True"
      ]
     },
     "execution_count": 19,
     "metadata": {},
     "output_type": "execute_result"
    }
   ],
   "source": [
    "fle_decoded_text_hash == original_text_hash"
   ]
  },
  {
   "cell_type": "markdown",
   "metadata": {},
   "source": [
    "# KODOWANIE O HUFFMANA"
   ]
  },
  {
   "cell_type": "code",
   "execution_count": 20,
   "metadata": {},
   "outputs": [],
   "source": [
    "from encoders.huffman_encoder import HuffmanEncoder"
   ]
  },
  {
   "cell_type": "code",
   "execution_count": 21,
   "metadata": {},
   "outputs": [],
   "source": [
    "normalized_file_path = osp.join('data','norm_wiki_sample.txt')\n",
    "huffman_text_path = osp.join('outputs','wiki.huffman')\n",
    "huffman_code_path = osp.join('outputs','huffman_code.json')"
   ]
  },
  {
   "cell_type": "code",
   "execution_count": 22,
   "metadata": {},
   "outputs": [],
   "source": [
    "# Load standard file\n",
    "with open (normalized_file_path,'r') as file:\n",
    "    original_text = file.read()"
   ]
  },
  {
   "cell_type": "code",
   "execution_count": 23,
   "metadata": {},
   "outputs": [],
   "source": [
    "huffman = HuffmanEncoder()\n",
    "huffman.create(original_text)"
   ]
  },
  {
   "cell_type": "code",
   "execution_count": 24,
   "metadata": {},
   "outputs": [
    {
     "data": {
      "text/plain": [
       "{' ': bitarray('000'),\n",
       " 'u': bitarray('001000'),\n",
       " '1': bitarray('00100100'),\n",
       " '7': bitarray('0010010100'),\n",
       " '6': bitarray('0010010101'),\n",
       " 'z': bitarray('0010010110'),\n",
       " 'q': bitarray('0010010111'),\n",
       " '0': bitarray('00100110'),\n",
       " 'j': bitarray('001001110'),\n",
       " '8': bitarray('001001111'),\n",
       " 'h': bitarray('00101'),\n",
       " 'a': bitarray('0011'),\n",
       " 'l': bitarray('01000'),\n",
       " 'f': bitarray('010010'),\n",
       " 'p': bitarray('010011'),\n",
       " 't': bitarray('0101'),\n",
       " 'g': bitarray('011000'),\n",
       " 'v': bitarray('0110010'),\n",
       " '9': bitarray('01100110'),\n",
       " '2': bitarray('01100111'),\n",
       " 'd': bitarray('01101'),\n",
       " 'i': bitarray('0111'),\n",
       " 'n': bitarray('1000'),\n",
       " 'o': bitarray('1001'),\n",
       " 'r': bitarray('1010'),\n",
       " 'c': bitarray('10110'),\n",
       " 'b': bitarray('101110'),\n",
       " 'w': bitarray('101111'),\n",
       " 's': bitarray('1100'),\n",
       " '3': bitarray('110100000'),\n",
       " '5': bitarray('110100001'),\n",
       " 'x': bitarray('110100010'),\n",
       " '4': bitarray('110100011'),\n",
       " 'k': bitarray('1101001'),\n",
       " 'y': bitarray('110101'),\n",
       " 'm': bitarray('11011'),\n",
       " 'e': bitarray('111')}"
      ]
     },
     "execution_count": 24,
     "metadata": {},
     "output_type": "execute_result"
    }
   ],
   "source": [
    "huffman.code"
   ]
  },
  {
   "cell_type": "code",
   "execution_count": 25,
   "metadata": {},
   "outputs": [],
   "source": [
    "huffman_encoded_text = huffman.encode(original_text)\n"
   ]
  },
  {
   "cell_type": "code",
   "execution_count": 26,
   "metadata": {},
   "outputs": [],
   "source": [
    "huffman._save_code(huffman_code_path)\n",
    "huffman._save_encoded_file(huffman_text_path,huffman_encoded_text)"
   ]
  },
  {
   "cell_type": "markdown",
   "metadata": {},
   "source": [
    "### Porówanmianie rozmiarów plików"
   ]
  },
  {
   "cell_type": "code",
   "execution_count": 27,
   "metadata": {},
   "outputs": [
    {
     "name": "stdout",
     "output_type": "stream",
     "text": [
      "Original file size: 10788941\n",
      "Huffman file size: 5811215\n",
      "Huffman/Original file size: 0.5386270070436014\n"
     ]
    }
   ],
   "source": [
    "print(f'Original file size: {osp.getsize(normalized_file_path)}')\n",
    "print(f'Huffman file size: {osp.getsize(huffman_text_path)}')\n",
    "print(f'Huffman/Original file size: {osp.getsize(huffman_text_path)/osp.getsize(normalized_file_path)}')"
   ]
  },
  {
   "cell_type": "markdown",
   "metadata": {},
   "source": [
    "### Wczytanie pliku i kodu"
   ]
  },
  {
   "cell_type": "code",
   "execution_count": 28,
   "metadata": {},
   "outputs": [],
   "source": [
    "huffman_2 = HuffmanEncoder()"
   ]
  },
  {
   "cell_type": "code",
   "execution_count": 29,
   "metadata": {},
   "outputs": [
    {
     "data": {
      "text/plain": [
       "{}"
      ]
     },
     "execution_count": 29,
     "metadata": {},
     "output_type": "execute_result"
    }
   ],
   "source": [
    "huffman_2.code"
   ]
  },
  {
   "cell_type": "code",
   "execution_count": 30,
   "metadata": {},
   "outputs": [
    {
     "data": {
      "text/plain": [
       "{' ': bitarray('000'),\n",
       " 'u': bitarray('001000'),\n",
       " '1': bitarray('00100100'),\n",
       " '7': bitarray('0010010100'),\n",
       " '6': bitarray('0010010101'),\n",
       " 'z': bitarray('0010010110'),\n",
       " 'q': bitarray('0010010111'),\n",
       " '0': bitarray('00100110'),\n",
       " 'j': bitarray('001001110'),\n",
       " '8': bitarray('001001111'),\n",
       " 'h': bitarray('00101'),\n",
       " 'a': bitarray('0011'),\n",
       " 'l': bitarray('01000'),\n",
       " 'f': bitarray('010010'),\n",
       " 'p': bitarray('010011'),\n",
       " 't': bitarray('0101'),\n",
       " 'g': bitarray('011000'),\n",
       " 'v': bitarray('0110010'),\n",
       " '9': bitarray('01100110'),\n",
       " '2': bitarray('01100111'),\n",
       " 'd': bitarray('01101'),\n",
       " 'i': bitarray('0111'),\n",
       " 'n': bitarray('1000'),\n",
       " 'o': bitarray('1001'),\n",
       " 'r': bitarray('1010'),\n",
       " 'c': bitarray('10110'),\n",
       " 'b': bitarray('101110'),\n",
       " 'w': bitarray('101111'),\n",
       " 's': bitarray('1100'),\n",
       " '3': bitarray('110100000'),\n",
       " '5': bitarray('110100001'),\n",
       " 'x': bitarray('110100010'),\n",
       " '4': bitarray('110100011'),\n",
       " 'k': bitarray('1101001'),\n",
       " 'y': bitarray('110101'),\n",
       " 'm': bitarray('11011'),\n",
       " 'e': bitarray('111')}"
      ]
     },
     "execution_count": 30,
     "metadata": {},
     "output_type": "execute_result"
    }
   ],
   "source": [
    "huffman_2._load_code(huffman_code_path)\n",
    "huffman_2.code"
   ]
  },
  {
   "cell_type": "markdown",
   "metadata": {},
   "source": [
    "## Porównanie plików"
   ]
  },
  {
   "cell_type": "code",
   "execution_count": 31,
   "metadata": {},
   "outputs": [],
   "source": [
    "huffman_loaded_encoded_text = huffman_2._load_encoded_file(huffman_text_path)"
   ]
  },
  {
   "cell_type": "code",
   "execution_count": null,
   "metadata": {},
   "outputs": [],
   "source": [
    "huffman_decoded_text = huffman_2.decode(huffman_loaded_encoded_text)[:len(original_text)]"
   ]
  },
  {
   "cell_type": "code",
   "execution_count": null,
   "metadata": {},
   "outputs": [],
   "source": [
    "huffman_decoded_text_hash = md5(huffman_decoded_text.encode()).hexdigest()"
   ]
  },
  {
   "cell_type": "code",
   "execution_count": null,
   "metadata": {},
   "outputs": [],
   "source": [
    "huffman_decoded_text_hash"
   ]
  },
  {
   "cell_type": "code",
   "execution_count": null,
   "metadata": {},
   "outputs": [],
   "source": [
    "original_text_hash = md5(original_text.encode()).hexdigest()"
   ]
  },
  {
   "cell_type": "code",
   "execution_count": null,
   "metadata": {},
   "outputs": [],
   "source": [
    "original_text_hash"
   ]
  },
  {
   "cell_type": "code",
   "execution_count": null,
   "metadata": {},
   "outputs": [],
   "source": [
    "huffman_decoded_text_hash == original_text_hash"
   ]
  },
  {
   "cell_type": "markdown",
   "metadata": {},
   "source": [
    "# Adaptive Huffman"
   ]
  },
  {
   "cell_type": "markdown",
   "metadata": {},
   "source": [
    "W tym zadaniu nie należało sprawdzić jakości kompresji, tylko przygotować program, który utworzy dla dowolnego tekstu kod.\n",
    "\n",
    "Na potrzebę prezentacji zostały użyte tylko przykłady z http://ben-tanen.com/adaptive-huffman/"
   ]
  },
  {
   "cell_type": "code",
   "execution_count": null,
   "metadata": {},
   "outputs": [],
   "source": [
    "from encoders.adaptive_huffman_encoder import AdaptiveHuffmanCodeTree"
   ]
  },
  {
   "cell_type": "code",
   "execution_count": null,
   "metadata": {},
   "outputs": [],
   "source": [
    "def visualize(text :str) -> None:\n",
    "    ahct = AdaptiveHuffmanCodeTree()\n",
    "    for i, char in enumerate(text):\n",
    "        print(f' State for : {text[:i + 1]}')\n",
    "        ahct.add_character(char)\n",
    "        print(ahct.get_code(left_tree_char = '0', right_tree_char= '1'))\n",
    "        print()"
   ]
  },
  {
   "cell_type": "markdown",
   "metadata": {},
   "source": [
    "## bookkeeper"
   ]
  },
  {
   "cell_type": "code",
   "execution_count": null,
   "metadata": {},
   "outputs": [],
   "source": [
    "test_1 = 'bookkeeper'\n",
    "visualize('bookkeeper')"
   ]
  },
  {
   "cell_type": "markdown",
   "metadata": {},
   "source": [
    "## mississippi"
   ]
  },
  {
   "cell_type": "code",
   "execution_count": 41,
   "metadata": {},
   "outputs": [
    {
     "name": "stdout",
     "output_type": "stream",
     "text": [
      " State for : m\n",
      "{'m': '1'}\n",
      "\n",
      " State for : mi\n",
      "{'m': '1', 'i': '01'}\n",
      "\n",
      " State for : mis\n",
      "{'m': '0', 'i': '11', 's': '101'}\n",
      "\n",
      " State for : miss\n",
      "{'m': '101', 'i': '11', 's': '0'}\n",
      "\n",
      " State for : missi\n",
      "{'m': '101', 'i': '11', 's': '0'}\n",
      "\n",
      " State for : missis\n",
      "{'m': '101', 'i': '11', 's': '0'}\n",
      "\n",
      " State for : mississ\n",
      "{'m': '001', 'i': '01', 's': '1'}\n",
      "\n",
      " State for : mississi\n",
      "{'m': '001', 'i': '01', 's': '1'}\n",
      "\n",
      " State for : mississip\n",
      "{'m': '101', 'i': '11', 's': '0', 'p': '1001'}\n",
      "\n",
      " State for : mississipp\n",
      "{'m': '1001', 'i': '11', 's': '0', 'p': '101'}\n",
      "\n",
      " State for : mississippi\n",
      "{'m': '1001', 'i': '11', 's': '0', 'p': '101'}\n",
      "\n"
     ]
    }
   ],
   "source": [
    "visualize('mississippi')"
   ]
  },
  {
   "cell_type": "markdown",
   "metadata": {},
   "source": [
    "## sleeplessness"
   ]
  },
  {
   "cell_type": "code",
   "execution_count": 42,
   "metadata": {},
   "outputs": [
    {
     "name": "stdout",
     "output_type": "stream",
     "text": [
      " State for : s\n",
      "{'s': '1'}\n",
      "\n",
      " State for : sl\n",
      "{'s': '1', 'l': '01'}\n",
      "\n",
      " State for : sle\n",
      "{'s': '0', 'l': '11', 'e': '101'}\n",
      "\n",
      " State for : slee\n",
      "{'s': '101', 'l': '11', 'e': '0'}\n",
      "\n",
      " State for : sleep\n",
      "{'s': '111', 'l': '10', 'e': '0', 'p': '1101'}\n",
      "\n",
      " State for : sleepl\n",
      "{'s': '111', 'l': '10', 'e': '0', 'p': '1101'}\n",
      "\n",
      " State for : sleeple\n",
      "{'s': '111', 'l': '10', 'e': '0', 'p': '1101'}\n",
      "\n",
      " State for : sleeples\n",
      "{'s': '111', 'l': '10', 'e': '0', 'p': '1101'}\n",
      "\n",
      " State for : sleepless\n",
      "{'s': '10', 'l': '111', 'e': '0', 'p': '1101'}\n",
      "\n",
      " State for : sleeplessn\n",
      "{'s': '10', 'l': '01', 'e': '11', 'p': '001', 'n': '0001'}\n",
      "\n",
      " State for : sleeplessne\n",
      "{'s': '10', 'l': '01', 'e': '11', 'p': '001', 'n': '0001'}\n",
      "\n",
      " State for : sleeplessnes\n",
      "{'s': '10', 'l': '01', 'e': '11', 'p': '001', 'n': '0001'}\n",
      "\n",
      " State for : sleeplessness\n",
      "{'s': '0', 'l': '101', 'e': '11', 'p': '1001', 'n': '10001'}\n",
      "\n"
     ]
    }
   ],
   "source": [
    "visualize('sleeplessness')"
   ]
  },
  {
   "cell_type": "markdown",
   "metadata": {},
   "source": [
    "# LZW\n",
    "Wypisywanie kodu na wyjściu ma charakter tylko poglądowy. Podczas dekodowaina słownik jest dynamcznie tworzony na podsawie wejścia."
   ]
  },
  {
   "cell_type": "markdown",
   "metadata": {},
   "source": [
    "# Norm wiki"
   ]
  },
  {
   "cell_type": "code",
   "execution_count": 43,
   "metadata": {},
   "outputs": [],
   "source": [
    "from encoders.LZW_encoder import LZWEncoder\n",
    "from math import pow\n"
   ]
  },
  {
   "cell_type": "code",
   "execution_count": 44,
   "metadata": {},
   "outputs": [],
   "source": [
    "normalized_file_path = osp.join('data','norm_wiki_sample.txt')\n",
    "lzw_text_path = osp.join('outputs','wiki.lzw')\n",
    "lzw_code_path = osp.join('outputs','lzw_wiki_code.json')"
   ]
  },
  {
   "cell_type": "code",
   "execution_count": 45,
   "metadata": {},
   "outputs": [],
   "source": [
    "# Load standard file\n",
    "with open (normalized_file_path,'r') as file:\n",
    "    original_text = file.read()"
   ]
  },
  {
   "cell_type": "code",
   "execution_count": 46,
   "metadata": {},
   "outputs": [],
   "source": [
    "DICT_SIZE = pow(2,18)"
   ]
  },
  {
   "cell_type": "code",
   "execution_count": 47,
   "metadata": {},
   "outputs": [],
   "source": [
    "lzw = LZWEncoder(max_dict_size=DICT_SIZE)"
   ]
  },
  {
   "cell_type": "code",
   "execution_count": 48,
   "metadata": {},
   "outputs": [
    {
     "data": {
      "text/plain": [
       "{}"
      ]
     },
     "execution_count": 48,
     "metadata": {},
     "output_type": "execute_result"
    }
   ],
   "source": [
    "lzw.code"
   ]
  },
  {
   "cell_type": "code",
   "execution_count": 49,
   "metadata": {},
   "outputs": [],
   "source": [
    "lzw_encoded_text = lzw.encode(original_text)\n"
   ]
  },
  {
   "cell_type": "code",
   "execution_count": 50,
   "metadata": {},
   "outputs": [],
   "source": [
    "lzw._save_code(lzw_code_path)\n",
    "lzw._save_encoded_file(lzw_text_path,lzw_encoded_text)"
   ]
  },
  {
   "cell_type": "markdown",
   "metadata": {},
   "source": [
    "### Porówanmianie rozmiarów plików"
   ]
  },
  {
   "cell_type": "code",
   "execution_count": 51,
   "metadata": {},
   "outputs": [
    {
     "name": "stdout",
     "output_type": "stream",
     "text": [
      "Original file size: 10788941\n",
      "LZW file size: 21595260\n",
      "LZW/Original file size: 2.001610723425033\n"
     ]
    }
   ],
   "source": [
    "print(f'Original file size: {osp.getsize(normalized_file_path)}')\n",
    "print(f'LZW file size: {osp.getsize(lzw_text_path)}')\n",
    "print(f'LZW/Original file size: {osp.getsize(lzw_text_path)/osp.getsize(normalized_file_path)}')"
   ]
  },
  {
   "cell_type": "markdown",
   "metadata": {},
   "source": [
    "### Wczytanie pliku i kodu"
   ]
  },
  {
   "cell_type": "code",
   "execution_count": 52,
   "metadata": {},
   "outputs": [],
   "source": [
    "lzw_2 = LZWEncoder(max_dict_size=DICT_SIZE)"
   ]
  },
  {
   "cell_type": "code",
   "execution_count": 53,
   "metadata": {},
   "outputs": [
    {
     "data": {
      "text/plain": [
       "{}"
      ]
     },
     "execution_count": 53,
     "metadata": {},
     "output_type": "execute_result"
    }
   ],
   "source": [
    "lzw_2.code"
   ]
  },
  {
   "cell_type": "markdown",
   "metadata": {},
   "source": [
    "## Porównanie plików"
   ]
  },
  {
   "cell_type": "code",
   "execution_count": 54,
   "metadata": {},
   "outputs": [],
   "source": [
    "lzw_loaded_encoded_text = lzw_2._load_encoded_file(lzw_text_path)"
   ]
  },
  {
   "cell_type": "code",
   "execution_count": 55,
   "metadata": {},
   "outputs": [],
   "source": [
    "lzw_decoded_text = lzw_2.decode(lzw_loaded_encoded_text)"
   ]
  },
  {
   "cell_type": "code",
   "execution_count": 56,
   "metadata": {},
   "outputs": [],
   "source": [
    "lzw_decoded_text_hash = md5(lzw_decoded_text.encode()).hexdigest()"
   ]
  },
  {
   "cell_type": "code",
   "execution_count": 57,
   "metadata": {},
   "outputs": [
    {
     "data": {
      "text/plain": [
       "'47e54e43556131eef79bb946a10d2da3'"
      ]
     },
     "execution_count": 57,
     "metadata": {},
     "output_type": "execute_result"
    }
   ],
   "source": [
    "lzw_decoded_text_hash"
   ]
  },
  {
   "cell_type": "code",
   "execution_count": 58,
   "metadata": {},
   "outputs": [],
   "source": [
    "original_text_hash = md5(original_text.encode()).hexdigest()"
   ]
  },
  {
   "cell_type": "code",
   "execution_count": 59,
   "metadata": {},
   "outputs": [
    {
     "data": {
      "text/plain": [
       "'47e54e43556131eef79bb946a10d2da3'"
      ]
     },
     "execution_count": 59,
     "metadata": {},
     "output_type": "execute_result"
    }
   ],
   "source": [
    "original_text_hash"
   ]
  },
  {
   "cell_type": "code",
   "execution_count": 60,
   "metadata": {},
   "outputs": [
    {
     "data": {
      "text/plain": [
       "True"
      ]
     },
     "execution_count": 60,
     "metadata": {},
     "output_type": "execute_result"
    }
   ],
   "source": [
    "lzw_decoded_text_hash == original_text_hash"
   ]
  },
  {
   "cell_type": "markdown",
   "metadata": {},
   "source": [
    "## Wiki"
   ]
  },
  {
   "cell_type": "code",
   "execution_count": 78,
   "metadata": {},
   "outputs": [],
   "source": [
    "wiki_file_path = osp.join('data','wiki_sample.txt')\n",
    "lzw_text_path = osp.join('outputs','wiki_sample.lzw')\n",
    "lzw_code_path = osp.join('outputs','wiki_sample_code.json')"
   ]
  },
  {
   "cell_type": "code",
   "execution_count": 79,
   "metadata": {},
   "outputs": [],
   "source": [
    "lzw_wiki = LZWEncoder(max_dict_size=DICT_SIZE)"
   ]
  },
  {
   "cell_type": "code",
   "execution_count": 81,
   "metadata": {},
   "outputs": [],
   "source": [
    "# Load standard file\n",
    "with open (wiki_file_path,'r') as file:\n",
    "    wiki_text = file.read()\n",
    "lzw_encoded_text = lzw_wiki.encode(wiki_text)\n"
   ]
  },
  {
   "cell_type": "code",
   "execution_count": 82,
   "metadata": {},
   "outputs": [],
   "source": [
    "lzw_wiki._save_code(lzw_code_path)\n",
    "lzw_wiki._save_encoded_file(lzw_text_path,lzw_encoded_text)"
   ]
  },
  {
   "cell_type": "code",
   "execution_count": 83,
   "metadata": {},
   "outputs": [
    {
     "name": "stdout",
     "output_type": "stream",
     "text": [
      "Original file size: 11909016\n",
      "LZW file size: 24237936\n",
      "LZW/Original file size: 2.0352593362877336\n"
     ]
    }
   ],
   "source": [
    "print(f'Original file size: {osp.getsize(wiki_file_path)}')\n",
    "print(f'LZW file size: {osp.getsize(lzw_text_path)}')\n",
    "print(f'LZW/Original file size: {osp.getsize(lzw_text_path)/osp.getsize(wiki_file_path)}')"
   ]
  },
  {
   "cell_type": "markdown",
   "metadata": {},
   "source": [
    "## Plik tylko z literami `a`"
   ]
  },
  {
   "cell_type": "code",
   "execution_count": 68,
   "metadata": {},
   "outputs": [],
   "source": [
    "aaa_file_path = osp.join('data','aaa.txt')\n",
    "lzw_text_path = osp.join('outputs','aaa.lzw')\n",
    "lzw_code_path = osp.join('outputs','aaa_code.json')"
   ]
  },
  {
   "cell_type": "code",
   "execution_count": 69,
   "metadata": {},
   "outputs": [],
   "source": [
    "lzw_a = LZWEncoder(max_dict_size=DICT_SIZE)"
   ]
  },
  {
   "cell_type": "code",
   "execution_count": 70,
   "metadata": {},
   "outputs": [],
   "source": [
    "# Load standard file\n",
    "with open (aaa_file_path,'r') as file:\n",
    "    aaa_text = file.read()\n",
    "lzw_encoded_text = lzw.encode(aaa_text)\n"
   ]
  },
  {
   "cell_type": "code",
   "execution_count": 71,
   "metadata": {},
   "outputs": [],
   "source": [
    "lzw_a._save_code(lzw_code_path)\n",
    "lzw_a._save_encoded_file(lzw_text_path,lzw_encoded_text)"
   ]
  },
  {
   "cell_type": "code",
   "execution_count": 72,
   "metadata": {},
   "outputs": [
    {
     "name": "stdout",
     "output_type": "stream",
     "text": [
      "Original file size: 279001\n",
      "LZW file size: 1683\n",
      "LZW/Original file size: 0.006032236443596977\n"
     ]
    }
   ],
   "source": [
    "print(f'Original file size: {osp.getsize(aaa_file_path)}')\n",
    "print(f'LZW file size: {osp.getsize(lzw_text_path)}')\n",
    "print(f'LZW/Original file size: {osp.getsize(lzw_text_path)/osp.getsize(aaa_file_path)}')"
   ]
  },
  {
   "cell_type": "markdown",
   "metadata": {},
   "source": [
    "Dla plików z Wikipedii osiągnięto wzrost objętości.\n",
    "Powodem jest prawdopodobnie, kiepska implementacja LZW. Kolejne klucze słownika zajmują zbyt dużo miejsca.\n",
    "W przypadku pliku zawierającego tylko jeden typ znaków (Przypadek idealny dla LZW), udało się zmniejszyć rozmiar pliku do rozmiaru 0.6% oryginalnego rozmiaru."
   ]
  },
  {
   "cell_type": "code",
   "execution_count": null,
   "metadata": {},
   "outputs": [],
   "source": []
  }
 ],
 "metadata": {
  "kernelspec": {
   "display_name": "ITI_TIMKoD_LAB",
   "language": "python",
   "name": "iti_timkod_lab"
  },
  "language_info": {
   "codemirror_mode": {
    "name": "ipython",
    "version": 3
   },
   "file_extension": ".py",
   "mimetype": "text/x-python",
   "name": "python",
   "nbconvert_exporter": "python",
   "pygments_lexer": "ipython3",
   "version": "3.6.9"
  }
 },
 "nbformat": 4,
 "nbformat_minor": 4
}
